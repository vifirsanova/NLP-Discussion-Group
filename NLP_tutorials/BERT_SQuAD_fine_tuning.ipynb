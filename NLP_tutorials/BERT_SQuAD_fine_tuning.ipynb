{
  "nbformat": 4,
  "nbformat_minor": 0,
  "metadata": {
    "colab": {
      "name": "BERT_SQuAD_fine-tuning",
      "provenance": [],
      "collapsed_sections": [],
      "toc_visible": true
    },
    "kernelspec": {
      "name": "python3",
      "display_name": "Python 3"
    },
    "accelerator": "GPU"
  },
  "cells": [
    {
      "cell_type": "markdown",
      "metadata": {
        "id": "3K_FSBWyG_B0"
      },
      "source": [
        "*Материал оформила и подготовила* Виктория Фирсанова"
      ]
    },
    {
      "cell_type": "markdown",
      "metadata": {
        "id": "ZEdzQEg5HaMl"
      },
      "source": [
        "#**Основные этапы настройки BERT для создания QA-системы с помощью SQuAD.**"
      ]
    },
    {
      "cell_type": "markdown",
      "metadata": {
        "id": "bJa5KBhNI0hN"
      },
      "source": [
        "**Подружаем трансформеры**"
      ]
    },
    {
      "cell_type": "code",
      "metadata": {
        "id": "3YXEF8QovYGj"
      },
      "source": [
        "!pip install transformers"
      ],
      "execution_count": null,
      "outputs": []
    },
    {
      "cell_type": "markdown",
      "metadata": {
        "id": "p3gU8XDOJBPf"
      },
      "source": [
        "**Заполучаем желанный датасет**"
      ]
    },
    {
      "cell_type": "code",
      "metadata": {
        "id": "6-osoLE9vYEN"
      },
      "source": [
        "!wget -P $DATA_DIR https://rajpurkar.github.io/SQuAD-explorer/dataset/train-v1.1.json\n",
        "!wget -P $DATA_DIR https://rajpurkar.github.io/SQuAD-explorer/dataset/dev-v1.1.json"
      ],
      "execution_count": null,
      "outputs": []
    },
    {
      "cell_type": "markdown",
      "metadata": {
        "id": "cTzDNosnJHca"
      },
      "source": [
        "**Загружаем скрипт для обучения BERT на SQuAD**"
      ]
    },
    {
      "cell_type": "code",
      "metadata": {
        "id": "c-WptzaDwMnY"
      },
      "source": [
        "curl -L -O https://raw.githubusercontent.com/huggingface/transformers/master/examples/question-answering/run_squad.py"
      ],
      "execution_count": null,
      "outputs": []
    },
    {
      "cell_type": "markdown",
      "metadata": {
        "id": "1cwoRCApJMsP"
      },
      "source": [
        "**Запускаем SQuAD**"
      ]
    },
    {
      "cell_type": "code",
      "metadata": {
        "id": "jmiobtkPvBce"
      },
      "source": [
        "# Здесь придется подождать 10-15 минут\n",
        "\n",
        "!python run_squad.py  \\\n",
        "    --model_type bert   \\\n",
        "    --model_name_or_path bert-base-uncased  \\\n",
        "    --output_dir models/bert/ \\\n",
        "    --data_dir data/squad   \\\n",
        "    --overwrite_output_dir \\\n",
        "    --overwrite_cache \\\n",
        "    --do_train  \\\n",
        "    --train_file train-v2.0.json   \\\n",
        "    --version_2_with_negative \\\n",
        "    --do_lower_case  \\\n",
        "    --do_eval   \\\n",
        "    --predict_file dev-v2.0.json   \\\n",
        "    --per_gpu_train_batch_size 2   \\\n",
        "    --learning_rate 3e-5   \\\n",
        "    --num_train_epochs 2.0   \\\n",
        "    --max_seq_length 384   \\\n",
        "    --doc_stride 128   \\\n",
        "    --threads 10   \\\n",
        "    --save_steps 500"
      ],
      "execution_count": null,
      "outputs": []
    },
    {
      "cell_type": "markdown",
      "metadata": {
        "id": "BtL887jdJQOZ"
      },
      "source": [
        "**Загружаем настроенную модель**"
      ]
    },
    {
      "cell_type": "code",
      "metadata": {
        "id": "pkSSHqB9F82b"
      },
      "source": [
        "import torch\n",
        "from transformers import AutoTokenizer, AutoModelForQuestionAnswering\n",
        "\n",
        "tokenizer = AutoTokenizer.from_pretrained(\"model-name\") \n",
        "model = AutoModelForQuestionAnswering.from_pretrained(\"model-name\")"
      ],
      "execution_count": null,
      "outputs": []
    }
  ]
}
